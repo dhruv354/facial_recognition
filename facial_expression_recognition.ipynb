{
 "cells": [
  {
   "cell_type": "code",
   "execution_count": 1,
   "metadata": {
    "colab": {
     "base_uri": "https://localhost:8080/"
    },
    "executionInfo": {
     "elapsed": 12659,
     "status": "ok",
     "timestamp": 1612598594008,
     "user": {
      "displayName": "dhruv singhal",
      "photoUrl": "",
      "userId": "08206038028283377283"
     },
     "user_tz": -330
    },
    "id": "_qOQe75SzLA4",
    "outputId": "5450bef2-b179-4779-8d95-c27bc1ea3fa5"
   },
   "outputs": [
    {
     "name": "stdout",
     "output_type": "stream",
     "text": [
      "Cloning into 'facial_expressions'...\n",
      "remote: Enumerating objects: 14214, done.\u001b[K\n",
      "remote: Total 14214 (delta 0), reused 0 (delta 0), pack-reused 14214\u001b[K\n",
      "Receiving objects: 100% (14214/14214), 239.65 MiB | 44.05 MiB/s, done.\n",
      "Resolving deltas: 100% (223/223), done.\n",
      "Checking out files: 100% (13996/13996), done.\n"
     ]
    }
   ],
   "source": [
    "!git clone https://github.com/muxspace/facial_expressions.git\n"
   ]
  },
  {
   "cell_type": "code",
   "execution_count": 2,
   "metadata": {
    "colab": {
     "base_uri": "https://localhost:8080/",
     "height": 345
    },
    "executionInfo": {
     "elapsed": 12647,
     "status": "ok",
     "timestamp": 1612598594010,
     "user": {
      "displayName": "dhruv singhal",
      "photoUrl": "",
      "userId": "08206038028283377283"
     },
     "user_tz": -330
    },
    "id": "WfUUKjPf14M_",
    "outputId": "586b23bf-9276-411b-d8e9-18908714d764"
   },
   "outputs": [
    {
     "data": {
      "text/html": [
       "<div>\n",
       "<style scoped>\n",
       "    .dataframe tbody tr th:only-of-type {\n",
       "        vertical-align: middle;\n",
       "    }\n",
       "\n",
       "    .dataframe tbody tr th {\n",
       "        vertical-align: top;\n",
       "    }\n",
       "\n",
       "    .dataframe thead th {\n",
       "        text-align: right;\n",
       "    }\n",
       "</style>\n",
       "<table border=\"1\" class=\"dataframe\">\n",
       "  <thead>\n",
       "    <tr style=\"text-align: right;\">\n",
       "      <th></th>\n",
       "      <th>user.id</th>\n",
       "      <th>image</th>\n",
       "      <th>emotion</th>\n",
       "    </tr>\n",
       "  </thead>\n",
       "  <tbody>\n",
       "    <tr>\n",
       "      <th>0</th>\n",
       "      <td>628</td>\n",
       "      <td>facial-expressions_2868588k.jpg</td>\n",
       "      <td>anger</td>\n",
       "    </tr>\n",
       "    <tr>\n",
       "      <th>1</th>\n",
       "      <td>628</td>\n",
       "      <td>facial-expressions_2868585k.jpg</td>\n",
       "      <td>surprise</td>\n",
       "    </tr>\n",
       "    <tr>\n",
       "      <th>2</th>\n",
       "      <td>628</td>\n",
       "      <td>facial-expressions_2868584k.jpg</td>\n",
       "      <td>disgust</td>\n",
       "    </tr>\n",
       "    <tr>\n",
       "      <th>3</th>\n",
       "      <td>628</td>\n",
       "      <td>facial-expressions_2868582k.jpg</td>\n",
       "      <td>fear</td>\n",
       "    </tr>\n",
       "    <tr>\n",
       "      <th>4</th>\n",
       "      <td>dwdii</td>\n",
       "      <td>Aaron_Eckhart_0001.jpg</td>\n",
       "      <td>neutral</td>\n",
       "    </tr>\n",
       "    <tr>\n",
       "      <th>5</th>\n",
       "      <td>302</td>\n",
       "      <td>Aaron_Guiel_0001.jpg</td>\n",
       "      <td>happiness</td>\n",
       "    </tr>\n",
       "    <tr>\n",
       "      <th>6</th>\n",
       "      <td>302</td>\n",
       "      <td>Aaron_Patterson_0001.jpg</td>\n",
       "      <td>neutral</td>\n",
       "    </tr>\n",
       "    <tr>\n",
       "      <th>7</th>\n",
       "      <td>302</td>\n",
       "      <td>Aaron_Peirsol_0001.jpg</td>\n",
       "      <td>happiness</td>\n",
       "    </tr>\n",
       "    <tr>\n",
       "      <th>8</th>\n",
       "      <td>302</td>\n",
       "      <td>Aaron_Peirsol_0002.jpg</td>\n",
       "      <td>happiness</td>\n",
       "    </tr>\n",
       "    <tr>\n",
       "      <th>9</th>\n",
       "      <td>302</td>\n",
       "      <td>Aaron_Peirsol_0003.jpg</td>\n",
       "      <td>happiness</td>\n",
       "    </tr>\n",
       "  </tbody>\n",
       "</table>\n",
       "</div>"
      ],
      "text/plain": [
       "  user.id                            image    emotion\n",
       "0     628  facial-expressions_2868588k.jpg      anger\n",
       "1     628  facial-expressions_2868585k.jpg   surprise\n",
       "2     628  facial-expressions_2868584k.jpg    disgust\n",
       "3     628  facial-expressions_2868582k.jpg       fear\n",
       "4   dwdii           Aaron_Eckhart_0001.jpg    neutral\n",
       "5     302             Aaron_Guiel_0001.jpg  happiness\n",
       "6     302         Aaron_Patterson_0001.jpg    neutral\n",
       "7     302           Aaron_Peirsol_0001.jpg  happiness\n",
       "8     302           Aaron_Peirsol_0002.jpg  happiness\n",
       "9     302           Aaron_Peirsol_0003.jpg  happiness"
      ]
     },
     "execution_count": 2,
     "metadata": {
      "tags": []
     },
     "output_type": "execute_result"
    }
   ],
   "source": [
    "import pandas as pd\n",
    "import matplotlib.pyplot as plt\n",
    "df = pd.read_csv('/content/facial_expressions/data/legend.csv')\n",
    "df.head(10)"
   ]
  },
  {
   "cell_type": "code",
   "execution_count": 7,
   "metadata": {
    "colab": {
     "base_uri": "https://localhost:8080/"
    },
    "executionInfo": {
     "elapsed": 1186,
     "status": "ok",
     "timestamp": 1612600274867,
     "user": {
      "displayName": "dhruv singhal",
      "photoUrl": "",
      "userId": "08206038028283377283"
     },
     "user_tz": -330
    },
    "id": "D0rN2j5YdxmT",
    "outputId": "9b74bf91-fec2-4913-fac5-5000363f1139"
   },
   "outputs": [
    {
     "data": {
      "text/plain": [
       "array(['anger', 'surprise', 'disgust', 'fear', 'neutral', 'happiness',\n",
       "       'sadness', 'contempt'], dtype=object)"
      ]
     },
     "execution_count": 7,
     "metadata": {
      "tags": []
     },
     "output_type": "execute_result"
    }
   ],
   "source": [
    "df.emotion = df.emotion.str.lower()\n",
    "df.emotion.unique()"
   ]
  },
  {
   "cell_type": "markdown",
   "metadata": {
    "id": "CAVGHW4C-evj"
   },
   "source": [
    "# New section"
   ]
  },
  {
   "cell_type": "code",
   "execution_count": 4,
   "metadata": {
    "colab": {
     "base_uri": "https://localhost:8080/",
     "height": 953,
     "output_embedded_package_id": "1bX3pd7HhPo_oSwQ1Mj6dQdJedCqOBGBw"
    },
    "executionInfo": {
     "elapsed": 26928,
     "status": "ok",
     "timestamp": 1612598666487,
     "user": {
      "displayName": "dhruv singhal",
      "photoUrl": "",
      "userId": "08206038028283377283"
     },
     "user_tz": -330
    },
    "id": "v6-RrX7w2R__",
    "outputId": "215ca613-eef0-4b79-d3c7-1ab6ffecd873"
   },
   "outputs": [
    {
     "data": {
      "text/plain": [
       "Output hidden; open in https://colab.research.google.com to view."
      ]
     },
     "metadata": {},
     "output_type": "display_data"
    }
   ],
   "source": [
    "import os\n",
    "dir = os.listdir('/content/facial_expressions/images')\n",
    "image_dir = '/content/facial_expressions/images'\n",
    "\n",
    "fig = plt.figure(figsize=(40, 40))\n",
    "for i in range(20):\n",
    "  plt.subplot(4, 5, i+1)\n",
    "  plt.axis('off')\n",
    "  img = plt.imread(os.path.join(image_dir, df.image[i]))\n",
    "  plt.title(df.emotion[i], fontsize=30) \n",
    "  plt.imshow(img)"
   ]
  },
  {
   "cell_type": "code",
   "execution_count": 5,
   "metadata": {
    "colab": {
     "base_uri": "https://localhost:8080/"
    },
    "executionInfo": {
     "elapsed": 2552,
     "status": "ok",
     "timestamp": 1612598669228,
     "user": {
      "displayName": "dhruv singhal",
      "photoUrl": "",
      "userId": "08206038028283377283"
     },
     "user_tz": -330
    },
    "id": "AEqsqWo3AXXD",
    "outputId": "6c3cadb3-a9ed-4fbb-c78b-9564f9781f2f"
   },
   "outputs": [
    {
     "data": {
      "text/plain": [
       "{'anger',\n",
       " 'contempt',\n",
       " 'disgust',\n",
       " 'fear',\n",
       " 'happiness',\n",
       " 'neutral',\n",
       " 'sadness',\n",
       " 'surprise'}"
      ]
     },
     "execution_count": 5,
     "metadata": {
      "tags": []
     },
     "output_type": "execute_result"
    }
   ],
   "source": [
    "#no of class names\n",
    "classes = set(df.emotion.str.lower())\n",
    "classes"
   ]
  },
  {
   "cell_type": "code",
   "execution_count": 33,
   "metadata": {
    "executionInfo": {
     "elapsed": 1060,
     "status": "ok",
     "timestamp": 1612603456242,
     "user": {
      "displayName": "dhruv singhal",
      "photoUrl": "",
      "userId": "08206038028283377283"
     },
     "user_tz": -330
    },
    "id": "Rdzls5IKocIH"
   },
   "outputs": [],
   "source": [
    "from collections import defaultdict\n",
    "emotions_list = defaultdict(list)"
   ]
  },
  {
   "cell_type": "code",
   "execution_count": 37,
   "metadata": {
    "colab": {
     "base_uri": "https://localhost:8080/"
    },
    "executionInfo": {
     "elapsed": 1163,
     "status": "ok",
     "timestamp": 1612603519153,
     "user": {
      "displayName": "dhruv singhal",
      "photoUrl": "",
      "userId": "08206038028283377283"
     },
     "user_tz": -330
    },
    "id": "C37ooWMrlPCr",
    "outputId": "d0eb162f-23ed-47ef-89b1-6459fad7a484"
   },
   "outputs": [
    {
     "name": "stdout",
     "output_type": "stream",
     "text": [
      "756\n"
     ]
    }
   ],
   "source": [
    "\n",
    "for index, emotion in enumerate(df.emotion):\n",
    "  key = emotion\n",
    "  emotions_list[key].append(df.image[index])\n",
    "print(len(emotions_list['anger']))"
   ]
  },
  {
   "cell_type": "code",
   "execution_count": 39,
   "metadata": {
    "executionInfo": {
     "elapsed": 1135,
     "status": "ok",
     "timestamp": 1612603814215,
     "user": {
      "displayName": "dhruv singhal",
      "photoUrl": "",
      "userId": "08206038028283377283"
     },
     "user_tz": -330
    },
    "id": "L9_V55ucqRof"
   },
   "outputs": [],
   "source": [
    "import os\n",
    "os.mkdir('master_data')\n",
    "os.mkdir('master_data/training')\n",
    "os.mkdir('master_data/testing')\n",
    "temp = ['training', 'testing']\n",
    "for temp in temp:\n",
    "  for key in emotions_list.keys():\n",
    "    os.mkdir(os.path.join('master_data/' + temp, key))\n",
    "\n",
    "\n"
   ]
  },
  {
   "cell_type": "code",
   "execution_count": 40,
   "metadata": {
    "colab": {
     "base_uri": "https://localhost:8080/"
    },
    "executionInfo": {
     "elapsed": 1353,
     "status": "ok",
     "timestamp": 1612603882781,
     "user": {
      "displayName": "dhruv singhal",
      "photoUrl": "",
      "userId": "08206038028283377283"
     },
     "user_tz": -330
    },
    "id": "xr6QwA9nri_A",
    "outputId": "fd00b3f7-3f63-47ef-9faf-f9282171e5f3"
   },
   "outputs": [
    {
     "name": "stdout",
     "output_type": "stream",
     "text": [
      "['sadness', 'happiness', 'fear', 'anger', 'disgust', 'contempt', 'neutral', 'surprise']\n"
     ]
    }
   ],
   "source": [
    "print(os.listdir('master_data/training'))"
   ]
  },
  {
   "cell_type": "code",
   "execution_count": 41,
   "metadata": {
    "executionInfo": {
     "elapsed": 13625,
     "status": "ok",
     "timestamp": 1612604494211,
     "user": {
      "displayName": "dhruv singhal",
      "photoUrl": "",
      "userId": "08206038028283377283"
     },
     "user_tz": -330
    },
    "id": "uLHvnE4qsBGX"
   },
   "outputs": [],
   "source": [
    "from shutil import copyfile\n",
    "train_dir ='/content/master_data/training'\n",
    "test_dir = '/content/master_data/testing'\n",
    "for emotion, images in emotions_list.items():\n",
    "  train_size = int(len(images)*0.8)\n",
    "  train_images = images[:train_size]\n",
    "  test_images = images[train_size:]\n",
    "  for image in train_images:\n",
    "    src = os.path.join('/content/facial_expressions/images', image)\n",
    "    dest = os.path.join(train_dir, emotion, image)\n",
    "    copyfile(src, dest)\n",
    "  for image in test_images:\n",
    "    src = os.path.join('/content/facial_expressions/images', image)\n",
    "    dest = os.path.join(test_dir, emotion, image)\n",
    "    copyfile(src, dest)"
   ]
  },
  {
   "cell_type": "code",
   "execution_count": 44,
   "metadata": {
    "executionInfo": {
     "elapsed": 893,
     "status": "ok",
     "timestamp": 1612605673570,
     "user": {
      "displayName": "dhruv singhal",
      "photoUrl": "",
      "userId": "08206038028283377283"
     },
     "user_tz": -330
    },
    "id": "ibt0qeJ4uOPG"
   },
   "outputs": [],
   "source": [
    "from tensorflow import keras\n",
    "from keras.preprocessing.image import ImageDataGenerator\n",
    "from keras.layers import Conv2D, MaxPooling2D, Dense, Flatten, BatchNormalization\n",
    "from keras.callbacks import EarlyStopping"
   ]
  },
  {
   "cell_type": "code",
   "execution_count": 50,
   "metadata": {
    "executionInfo": {
     "elapsed": 6973,
     "status": "ok",
     "timestamp": 1612605815860,
     "user": {
      "displayName": "dhruv singhal",
      "photoUrl": "",
      "userId": "08206038028283377283"
     },
     "user_tz": -330
    },
    "id": "RFjnGbO7x73j"
   },
   "outputs": [],
   "source": [
    "model = keras.models.Sequential([\n",
    "\n",
    "      Conv2D(16, (3, 3), activation='relu', input_shape=(28, 28, 3)),\n",
    "      BatchNormalization(),\n",
    "      MaxPooling2D(pool_size=(2, 2)),\n",
    "\n",
    "      Conv2D(32, (3, 3), activation='relu'),\n",
    "      BatchNormalization(),\n",
    "      MaxPooling2D(pool_size=(2, 2)),\n",
    "\n",
    "      Flatten(),\n",
    "      Dense(512, activation='relu'),\n",
    "      Dense(8, activation='softmax')\n",
    "\n",
    "])"
   ]
  },
  {
   "cell_type": "code",
   "execution_count": 52,
   "metadata": {
    "executionInfo": {
     "elapsed": 1401,
     "status": "ok",
     "timestamp": 1612606100371,
     "user": {
      "displayName": "dhruv singhal",
      "photoUrl": "",
      "userId": "08206038028283377283"
     },
     "user_tz": -330
    },
    "id": "oFGxaa9jz3AP"
   },
   "outputs": [],
   "source": [
    "model.compile(optimizer='adam', loss='categorical_crossentropy', metrics=['accuracy'])"
   ]
  },
  {
   "cell_type": "code",
   "execution_count": 51,
   "metadata": {
    "colab": {
     "base_uri": "https://localhost:8080/"
    },
    "executionInfo": {
     "elapsed": 1558,
     "status": "ok",
     "timestamp": 1612605824503,
     "user": {
      "displayName": "dhruv singhal",
      "photoUrl": "",
      "userId": "08206038028283377283"
     },
     "user_tz": -330
    },
    "id": "dZyse2Jjx7-F",
    "outputId": "b478ecc8-6271-4d09-f859-26175611ff35"
   },
   "outputs": [
    {
     "name": "stdout",
     "output_type": "stream",
     "text": [
      "Model: \"sequential\"\n",
      "_________________________________________________________________\n",
      "Layer (type)                 Output Shape              Param #   \n",
      "=================================================================\n",
      "conv2d_2 (Conv2D)            (None, 26, 26, 16)        448       \n",
      "_________________________________________________________________\n",
      "batch_normalization_2 (Batch (None, 26, 26, 16)        64        \n",
      "_________________________________________________________________\n",
      "max_pooling2d (MaxPooling2D) (None, 13, 13, 16)        0         \n",
      "_________________________________________________________________\n",
      "conv2d_3 (Conv2D)            (None, 11, 11, 32)        4640      \n",
      "_________________________________________________________________\n",
      "batch_normalization_3 (Batch (None, 11, 11, 32)        128       \n",
      "_________________________________________________________________\n",
      "max_pooling2d_1 (MaxPooling2 (None, 5, 5, 32)          0         \n",
      "_________________________________________________________________\n",
      "flatten (Flatten)            (None, 800)               0         \n",
      "_________________________________________________________________\n",
      "dense (Dense)                (None, 512)               410112    \n",
      "_________________________________________________________________\n",
      "dense_1 (Dense)              (None, 8)                 4104      \n",
      "=================================================================\n",
      "Total params: 419,496\n",
      "Trainable params: 419,400\n",
      "Non-trainable params: 96\n",
      "_________________________________________________________________\n"
     ]
    }
   ],
   "source": [
    "model.summary()"
   ]
  },
  {
   "cell_type": "code",
   "execution_count": 54,
   "metadata": {
    "colab": {
     "base_uri": "https://localhost:8080/"
    },
    "executionInfo": {
     "elapsed": 1428,
     "status": "ok",
     "timestamp": 1612607764787,
     "user": {
      "displayName": "dhruv singhal",
      "photoUrl": "",
      "userId": "08206038028283377283"
     },
     "user_tz": -330
    },
    "id": "mSgmG0eVx8DG",
    "outputId": "24cc371e-103f-4d22-9049-a1b0ea956a64"
   },
   "outputs": [
    {
     "name": "stdout",
     "output_type": "stream",
     "text": [
      "Found 13683 images belonging to 8 classes.\n",
      "Found 8210 images belonging to 8 classes.\n"
     ]
    }
   ],
   "source": [
    "train_datagen = ImageDataGenerator(rescale=1.0/255)\n",
    "train_generator = train_datagen.flow_from_directory(\n",
    "    directory=train_dir,\n",
    "    batch_size=32,\n",
    "    class_mode='categorical',\n",
    "    target_size=(28, 28)\n",
    ")\n",
    "\n",
    "test_datagen = ImageDataGenerator(rescale=1.0/255)\n",
    "test_generator = test_datagen.flow_from_directory(\n",
    "    directory=test_dir,\n",
    "    batch_size=32,\n",
    "    class_mode='categorical',\n",
    "    target_size=(28, 28)\n",
    ")\n"
   ]
  },
  {
   "cell_type": "code",
   "execution_count": 55,
   "metadata": {
    "executionInfo": {
     "elapsed": 1277,
     "status": "ok",
     "timestamp": 1612607859273,
     "user": {
      "displayName": "dhruv singhal",
      "photoUrl": "",
      "userId": "08206038028283377283"
     },
     "user_tz": -330
    },
    "id": "97UZ6HdIx8Ih"
   },
   "outputs": [],
   "source": [
    "callback = EarlyStopping(patience=5, restore_best_weights=True, monitor='val_acc')"
   ]
  },
  {
   "cell_type": "code",
   "execution_count": 56,
   "metadata": {
    "colab": {
     "base_uri": "https://localhost:8080/"
    },
    "executionInfo": {
     "elapsed": 209831,
     "status": "ok",
     "timestamp": 1612608193876,
     "user": {
      "displayName": "dhruv singhal",
      "photoUrl": "",
      "userId": "08206038028283377283"
     },
     "user_tz": -330
    },
    "id": "OJ7lQMjD7DlH",
    "outputId": "73ac2221-385f-4af2-8524-a0129ab18077"
   },
   "outputs": [
    {
     "name": "stdout",
     "output_type": "stream",
     "text": [
      "Epoch 1/10\n",
      "428/428 [==============================] - 27s 47ms/step - loss: 0.9696 - accuracy: 0.6818 - val_loss: 0.6088 - val_accuracy: 0.7833\n",
      "WARNING:tensorflow:Early stopping conditioned on metric `val_acc` which is not available. Available metrics are: loss,accuracy,val_loss,val_accuracy\n",
      "Epoch 2/10\n",
      "428/428 [==============================] - 20s 47ms/step - loss: 0.5299 - accuracy: 0.8134 - val_loss: 0.4870 - val_accuracy: 0.8143\n",
      "WARNING:tensorflow:Early stopping conditioned on metric `val_acc` which is not available. Available metrics are: loss,accuracy,val_loss,val_accuracy\n",
      "Epoch 3/10\n",
      "428/428 [==============================] - 20s 47ms/step - loss: 0.4236 - accuracy: 0.8490 - val_loss: 0.4946 - val_accuracy: 0.8140\n",
      "WARNING:tensorflow:Early stopping conditioned on metric `val_acc` which is not available. Available metrics are: loss,accuracy,val_loss,val_accuracy\n",
      "Epoch 4/10\n",
      "428/428 [==============================] - 20s 46ms/step - loss: 0.3288 - accuracy: 0.8814 - val_loss: 0.2306 - val_accuracy: 0.9136\n",
      "WARNING:tensorflow:Early stopping conditioned on metric `val_acc` which is not available. Available metrics are: loss,accuracy,val_loss,val_accuracy\n",
      "Epoch 5/10\n",
      "428/428 [==============================] - 20s 46ms/step - loss: 0.2304 - accuracy: 0.9182 - val_loss: 0.2100 - val_accuracy: 0.9319\n",
      "WARNING:tensorflow:Early stopping conditioned on metric `val_acc` which is not available. Available metrics are: loss,accuracy,val_loss,val_accuracy\n",
      "Epoch 6/10\n",
      "428/428 [==============================] - 20s 47ms/step - loss: 0.1578 - accuracy: 0.9426 - val_loss: 0.1379 - val_accuracy: 0.9481\n",
      "WARNING:tensorflow:Early stopping conditioned on metric `val_acc` which is not available. Available metrics are: loss,accuracy,val_loss,val_accuracy\n",
      "Epoch 7/10\n",
      "428/428 [==============================] - 20s 47ms/step - loss: 0.0988 - accuracy: 0.9687 - val_loss: 0.1324 - val_accuracy: 0.9488\n",
      "WARNING:tensorflow:Early stopping conditioned on metric `val_acc` which is not available. Available metrics are: loss,accuracy,val_loss,val_accuracy\n",
      "Epoch 8/10\n",
      "428/428 [==============================] - 20s 47ms/step - loss: 0.0641 - accuracy: 0.9792 - val_loss: 0.1213 - val_accuracy: 0.9557\n",
      "WARNING:tensorflow:Early stopping conditioned on metric `val_acc` which is not available. Available metrics are: loss,accuracy,val_loss,val_accuracy\n",
      "Epoch 9/10\n",
      "428/428 [==============================] - 20s 47ms/step - loss: 0.0576 - accuracy: 0.9803 - val_loss: 0.1449 - val_accuracy: 0.9460\n",
      "WARNING:tensorflow:Early stopping conditioned on metric `val_acc` which is not available. Available metrics are: loss,accuracy,val_loss,val_accuracy\n",
      "Epoch 10/10\n",
      "428/428 [==============================] - 20s 47ms/step - loss: 0.0543 - accuracy: 0.9829 - val_loss: 0.0835 - val_accuracy: 0.9716\n",
      "WARNING:tensorflow:Early stopping conditioned on metric `val_acc` which is not available. Available metrics are: loss,accuracy,val_loss,val_accuracy\n"
     ]
    }
   ],
   "source": [
    "history = model.fit(train_generator,\n",
    "                    epochs=10,\n",
    "                    callbacks=[callback],\n",
    "                    validation_data=test_generator)"
   ]
  },
  {
   "cell_type": "code",
   "execution_count": 61,
   "metadata": {
    "colab": {
     "base_uri": "https://localhost:8080/",
     "height": 281
    },
    "executionInfo": {
     "elapsed": 1415,
     "status": "ok",
     "timestamp": 1612608372630,
     "user": {
      "displayName": "dhruv singhal",
      "photoUrl": "",
      "userId": "08206038028283377283"
     },
     "user_tz": -330
    },
    "id": "IRBLxBZP8K5v",
    "outputId": "23f1dafb-3193-4498-9fee-9be64448c5c1"
   },
   "outputs": [
    {
     "data": {
      "text/plain": [
       "<matplotlib.axes._subplots.AxesSubplot at 0x7fbd2cae7438>"
      ]
     },
     "execution_count": 61,
     "metadata": {
      "tags": []
     },
     "output_type": "execute_result"
    },
    {
     "data": {
      "image/png": "[encoded data removed]",
      "text/plain": [
       "<Figure size 432x288 with 1 Axes>"
      ]
     },
     "metadata": {
      "needs_background": "light",
      "tags": []
     },
     "output_type": "display_data"
    }
   ],
   "source": [
    "df = pd.DataFrame(data=history.history)\n",
    "df.plot(grid=True)"
   ]
  }
 ],
 "metadata": {
  "accelerator": "GPU",
  "colab": {
   "authorship_tag": "ABX9TyPJ8H9rVW1uxz6K56ylW4pt",
   "collapsed_sections": [],
   "name": "facial_expression_recognition.ipynb",
   "provenance": []
  },
  "kernelspec": {
   "display_name": "Python 3",
   "language": "python",
   "name": "python3"
  },
  "language_info": {
   "codemirror_mode": {
    "name": "ipython",
    "version": 3
   },
   "file_extension": ".py",
   "mimetype": "text/x-python",
   "name": "python",
   "nbconvert_exporter": "python",
   "pygments_lexer": "ipython3",
   "version": "3.9.1"
  }
 },
 "nbformat": 4,
 "nbformat_minor": 1
}
